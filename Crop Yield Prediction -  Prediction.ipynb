{
 "cells": [
  {
   "cell_type": "markdown",
   "id": "6bf6beaf",
   "metadata": {},
   "source": [
    "## Import libraries"
   ]
  },
  {
   "cell_type": "code",
   "execution_count": 151,
   "id": "62529f0c",
   "metadata": {},
   "outputs": [],
   "source": [
    "import numpy as np \n",
    "import pandas as pd\n",
    "import warnings\n",
    "\n",
    "# ignore all warnings\n",
    "warnings.filterwarnings(\"ignore\")\n",
    "import numpy as np \n",
    "import pandas as pd \n",
    "import warnings\n",
    "\n",
    "# ignore all warnings\n",
    "warnings.filterwarnings(\"ignore\")\n",
    "import sklearn\n",
    "import seaborn as sns\n",
    "import matplotlib.pyplot as plt\n",
    "from sklearn.feature_extraction.text import CountVectorizer #to vectorize the text document\n",
    "from sklearn.model_selection import train_test_split #to train the texting data\n",
    "from sklearn.linear_model import LogisticRegression #to perform logistic regression on the data\n",
    "\n",
    "from sklearn.metrics import accuracy_score, classification_report, confusion_matrix, ConfusionMatrixDisplay  #different evaluation model for evaluation\n",
    "from sklearn.naive_bayes import MultinomialNB\n",
    "from sklearn.svm import LinearSVC\n",
    "from sklearn.neighbors import KNeighborsClassifier\n",
    "from sklearn.tree import DecisionTreeClassifier\n",
    "from sklearn.ensemble import RandomForestClassifier\n",
    "from sklearn.preprocessing import OneHotEncoder"
   ]
  },
  {
   "cell_type": "markdown",
   "id": "175a78c5",
   "metadata": {},
   "source": [
    "## Load saved models"
   ]
  },
  {
   "cell_type": "code",
   "execution_count": 152,
   "id": "ed04e07a",
   "metadata": {},
   "outputs": [],
   "source": [
    "import joblib\n",
    "ensemble_RFSVMCNN_model =  joblib.load('Trained Models/ensembler_RFSVMCNN.pkl')\n",
    "ensemble_DTCCNN_models = joblib.load('Trained Models/ensemble_DTCCNN.pkl')"
   ]
  },
  {
   "cell_type": "markdown",
   "id": "7a0607bc",
   "metadata": {},
   "source": [
    "## Prediction based on user input"
   ]
  },
  {
   "attachments": {},
   "cell_type": "markdown",
   "id": "fc69cbe8",
   "metadata": {},
   "source": [
    "Take user input, and store predicted value by each model in the `res` dataframe.\n",
    "\n",
    "Example input:\n",
    "\n",
    "`\n",
    " Albania\tMaize\t1485\t121\t16.37\n",
    "\n",
    "`\n",
    "India\tSoybeans\t2010\t13330\t1083\t40093.69\t26.51\n"
   ]
  },
  {
   "cell_type": "code",
   "execution_count": 153,
   "id": "3bbd54c1",
   "metadata": {},
   "outputs": [
    {
     "name": "stdout",
     "output_type": "stream",
     "text": [
      "Enter the Area: India\n",
      "Enter the Crop: Soybeans\n",
      "Enter the  Average Rainfall: 1083\n",
      "Enter the Pesticides: 40093.69\n",
      "Enter the  Average Temperature: 23.51\n"
     ]
    }
   ],
   "source": [
    "res = pd.read_csv(\"model_results.csv\")\n",
    "user_input_area = input(\"Enter the Area: \")\n",
    "user_input_crop = input(\"Enter the Crop: \")\n",
    "user_input_rain = input(\"Enter the  Average Rainfall: \")\n",
    "user_input_pesticides = input(\"Enter the Pesticides: \")\n",
    "user_input_temp = input(\"Enter the  Average Temperature: \")"
   ]
  },
  {
   "cell_type": "code",
   "execution_count": 154,
   "id": "901de26a",
   "metadata": {},
   "outputs": [
    {
     "data": {
      "text/html": [
       "<div>\n",
       "<style scoped>\n",
       "    .dataframe tbody tr th:only-of-type {\n",
       "        vertical-align: middle;\n",
       "    }\n",
       "\n",
       "    .dataframe tbody tr th {\n",
       "        vertical-align: top;\n",
       "    }\n",
       "\n",
       "    .dataframe thead th {\n",
       "        text-align: right;\n",
       "    }\n",
       "</style>\n",
       "<table border=\"1\" class=\"dataframe\">\n",
       "  <thead>\n",
       "    <tr style=\"text-align: right;\">\n",
       "      <th></th>\n",
       "      <th>average_rain_fall_mm_per_year</th>\n",
       "      <th>pesticides_tonnes</th>\n",
       "      <th>avg_temp</th>\n",
       "      <th>Country_Albania</th>\n",
       "      <th>Country_Algeria</th>\n",
       "      <th>Country_Angola</th>\n",
       "      <th>Country_Argentina</th>\n",
       "      <th>Country_Armenia</th>\n",
       "      <th>Country_Australia</th>\n",
       "      <th>Country_Austria</th>\n",
       "      <th>...</th>\n",
       "      <th>Item_Cassava</th>\n",
       "      <th>Item_Maize</th>\n",
       "      <th>Item_Plantains and others</th>\n",
       "      <th>Item_Potatoes</th>\n",
       "      <th>Item_Rice, paddy</th>\n",
       "      <th>Item_Sorghum</th>\n",
       "      <th>Item_Soybeans</th>\n",
       "      <th>Item_Sweet potatoes</th>\n",
       "      <th>Item_Wheat</th>\n",
       "      <th>Item_Yams</th>\n",
       "    </tr>\n",
       "  </thead>\n",
       "  <tbody>\n",
       "    <tr>\n",
       "      <th>0</th>\n",
       "      <td>1083</td>\n",
       "      <td>40093.69</td>\n",
       "      <td>23.51</td>\n",
       "      <td>1</td>\n",
       "      <td>0</td>\n",
       "      <td>0</td>\n",
       "      <td>0</td>\n",
       "      <td>0</td>\n",
       "      <td>0</td>\n",
       "      <td>0</td>\n",
       "      <td>...</td>\n",
       "      <td>0</td>\n",
       "      <td>1</td>\n",
       "      <td>0</td>\n",
       "      <td>0</td>\n",
       "      <td>0</td>\n",
       "      <td>0</td>\n",
       "      <td>1</td>\n",
       "      <td>0</td>\n",
       "      <td>0</td>\n",
       "      <td>0</td>\n",
       "    </tr>\n",
       "  </tbody>\n",
       "</table>\n",
       "<p>1 rows × 114 columns</p>\n",
       "</div>"
      ],
      "text/plain": [
       "  average_rain_fall_mm_per_year pesticides_tonnes avg_temp  Country_Albania  \\\n",
       "0                          1083          40093.69    23.51                1   \n",
       "\n",
       "   Country_Algeria  Country_Angola  Country_Argentina  Country_Armenia  \\\n",
       "0                0               0                  0                0   \n",
       "\n",
       "   Country_Australia  Country_Austria  ...  Item_Cassava  Item_Maize  \\\n",
       "0                  0                0  ...             0           1   \n",
       "\n",
       "   Item_Plantains and others  Item_Potatoes  Item_Rice, paddy  Item_Sorghum  \\\n",
       "0                          0              0                 0             0   \n",
       "\n",
       "   Item_Soybeans  Item_Sweet potatoes  Item_Wheat  Item_Yams  \n",
       "0              1                    0           0          0  \n",
       "\n",
       "[1 rows x 114 columns]"
      ]
     },
     "execution_count": 154,
     "metadata": {},
     "output_type": "execute_result"
    }
   ],
   "source": [
    "yield_df = pd.read_csv('Data_Preprocessed.csv')\n",
    "yield_df\n",
    "yield_df_onehot = pd.get_dummies(yield_df, columns=['Area',\"Item\"], prefix = ['Country',\"Item\"])\n",
    "features=yield_df_onehot.loc[:]\n",
    "label=yield_df['hg/ha_yield']\n",
    "features = features.drop(['Year'], axis=1)\n",
    "features = features.drop(['hg/ha_yield'], axis=1)\n",
    "features = features.iloc[[0]]\n",
    "#features = pd.DataFrame(0, index=features.index, columns=features.columns)\n",
    "#features.loc[0, 'Area'] = user_input_area\n",
    "# yield_df.loc[0, 'Item'] = user_input_crop\n",
    "features.loc[0, 'average_rain_fall_mm_per_year'] = user_input_rain\n",
    "features.loc[0, 'pesticides_tonnes'] = user_input_pesticides\n",
    "features.loc[0, 'avg_temp'] = user_input_temp\n",
    "features_columns = features.shape[1]\n",
    "for i in range(features_columns):\n",
    "    column_name = features.columns[i]\n",
    "    substring = column_name.split(\"_\")[1]\n",
    "    #print(substring)\n",
    "    if substring == user_input_area:\n",
    "        features.loc[0, column_name] = 1\n",
    "    if substring == user_input_crop:\n",
    "        features.loc[0, column_name] = 1\n",
    "features"
   ]
  },
  {
   "cell_type": "code",
   "execution_count": 155,
   "id": "92d738e7",
   "metadata": {},
   "outputs": [
    {
     "data": {
      "text/plain": [
       "array([[0., 0., 0., 0., 0., 0., 0., 0., 0., 0., 0., 0., 0., 0., 0., 0.,\n",
       "        0., 0., 0., 0., 0., 0., 0., 0., 0., 0., 0., 0., 0., 0., 0., 0.,\n",
       "        0., 0., 0., 0., 0., 0., 0., 0., 0., 0., 0., 0., 0., 0., 0., 0.,\n",
       "        0., 0., 0., 0., 0., 0., 0., 0., 0., 0., 0., 0., 0., 0., 0., 0.,\n",
       "        0., 0., 0., 0., 0., 0., 0., 0., 0., 0., 0., 0., 0., 0., 0., 0.,\n",
       "        0., 0., 0., 0., 0., 0., 0., 0., 0., 0., 0., 0., 0., 0., 0., 0.,\n",
       "        0., 0., 0., 0., 0., 0., 0., 0., 0., 0., 0., 0., 0., 0., 0., 0.,\n",
       "        0., 0.]])"
      ]
     },
     "execution_count": 155,
     "metadata": {},
     "output_type": "execute_result"
    }
   ],
   "source": [
    "from sklearn.preprocessing import MinMaxScaler\n",
    "scaler=MinMaxScaler()\n",
    "features=scaler.fit_transform(features) \n",
    "features"
   ]
  },
  {
   "cell_type": "code",
   "execution_count": 156,
   "id": "39ce6366",
   "metadata": {},
   "outputs": [
    {
     "data": {
      "text/plain": [
       "array([[0., 0.],\n",
       "       [0., 0.],\n",
       "       [0., 0.],\n",
       "       [0., 0.],\n",
       "       [0., 0.],\n",
       "       [0., 0.],\n",
       "       [0., 0.],\n",
       "       [0., 0.],\n",
       "       [0., 0.],\n",
       "       [0., 0.],\n",
       "       [0., 0.],\n",
       "       [0., 0.],\n",
       "       [0., 0.],\n",
       "       [0., 0.],\n",
       "       [0., 0.],\n",
       "       [0., 0.],\n",
       "       [0., 0.],\n",
       "       [0., 0.],\n",
       "       [0., 0.],\n",
       "       [0., 0.],\n",
       "       [0., 0.],\n",
       "       [0., 0.],\n",
       "       [0., 0.],\n",
       "       [0., 0.],\n",
       "       [0., 0.],\n",
       "       [0., 0.],\n",
       "       [0., 0.],\n",
       "       [0., 0.],\n",
       "       [0., 0.],\n",
       "       [0., 0.],\n",
       "       [0., 0.],\n",
       "       [0., 0.],\n",
       "       [0., 0.],\n",
       "       [0., 0.],\n",
       "       [0., 0.],\n",
       "       [0., 0.],\n",
       "       [0., 0.],\n",
       "       [0., 0.],\n",
       "       [0., 0.],\n",
       "       [0., 0.],\n",
       "       [0., 0.],\n",
       "       [0., 0.],\n",
       "       [0., 0.],\n",
       "       [0., 0.],\n",
       "       [0., 0.],\n",
       "       [0., 0.],\n",
       "       [0., 0.],\n",
       "       [0., 0.],\n",
       "       [0., 0.],\n",
       "       [0., 0.],\n",
       "       [0., 0.],\n",
       "       [0., 0.],\n",
       "       [0., 0.],\n",
       "       [0., 0.],\n",
       "       [0., 0.],\n",
       "       [0., 0.],\n",
       "       [0., 0.]])"
      ]
     },
     "execution_count": 156,
     "metadata": {},
     "output_type": "execute_result"
    }
   ],
   "source": [
    "features = features.reshape(-1,2)\n",
    "features"
   ]
  },
  {
   "cell_type": "code",
   "execution_count": 157,
   "id": "08cabd18",
   "metadata": {},
   "outputs": [],
   "source": [
    "# features_cnn = features.reshape((features.shape[0], features.shape))\n",
    "# features_ensemble = np.concatenate([features,features_cnn], axis=1)\n",
    "# features_ensemble = features_ensemble[:-2393453]"
   ]
  },
  {
   "cell_type": "code",
   "execution_count": 158,
   "id": "5d28e799",
   "metadata": {},
   "outputs": [
    {
     "data": {
      "text/plain": [
       "(114, 1)"
      ]
     },
     "execution_count": 158,
     "metadata": {},
     "output_type": "execute_result"
    }
   ],
   "source": [
    "features_cnn.shape"
   ]
  },
  {
   "cell_type": "markdown",
   "id": "fcd60746",
   "metadata": {},
   "source": [
    "### sv_model.predict(user_in)"
   ]
  },
  {
   "cell_type": "code",
   "execution_count": 159,
   "id": "d14e4f3b",
   "metadata": {
    "scrolled": false
   },
   "outputs": [
    {
     "data": {
      "text/html": [
       "<div>\n",
       "<style scoped>\n",
       "    .dataframe tbody tr th:only-of-type {\n",
       "        vertical-align: middle;\n",
       "    }\n",
       "\n",
       "    .dataframe tbody tr th {\n",
       "        vertical-align: top;\n",
       "    }\n",
       "\n",
       "    .dataframe thead th {\n",
       "        text-align: right;\n",
       "    }\n",
       "</style>\n",
       "<table border=\"1\" class=\"dataframe\">\n",
       "  <thead>\n",
       "    <tr style=\"text-align: right;\">\n",
       "      <th></th>\n",
       "      <th>models</th>\n",
       "      <th>R1-Score</th>\n",
       "      <th>hg/ha yield</th>\n",
       "    </tr>\n",
       "  </thead>\n",
       "  <tbody>\n",
       "    <tr>\n",
       "      <th>0</th>\n",
       "      <td>Random Forest,SVM and CNN</td>\n",
       "      <td>97.41</td>\n",
       "      <td>-12.771785</td>\n",
       "    </tr>\n",
       "    <tr>\n",
       "      <th>1</th>\n",
       "      <td>Desicion Tree and CNN</td>\n",
       "      <td>92.21</td>\n",
       "      <td>-10.701733</td>\n",
       "    </tr>\n",
       "  </tbody>\n",
       "</table>\n",
       "</div>"
      ],
      "text/plain": [
       "                      models  R1-Score  hg/ha yield\n",
       "0  Random Forest,SVM and CNN     97.41   -12.771785\n",
       "1      Desicion Tree and CNN     92.21   -10.701733"
      ]
     },
     "execution_count": 159,
     "metadata": {},
     "output_type": "execute_result"
    }
   ],
   "source": [
    "res[\"hg/ha yield\"] = [ ensemble_RFSVMCNN_model.predict(features)[0],ensemble_DTCCNN_models.predict(features)[0]]\n",
    "res"
   ]
  },
  {
   "cell_type": "code",
   "execution_count": null,
   "id": "a349fa77",
   "metadata": {},
   "outputs": [],
   "source": []
  },
  {
   "cell_type": "code",
   "execution_count": null,
   "id": "837baaa3",
   "metadata": {},
   "outputs": [],
   "source": []
  },
  {
   "cell_type": "code",
   "execution_count": null,
   "id": "7490ce5b",
   "metadata": {},
   "outputs": [],
   "source": []
  },
  {
   "cell_type": "code",
   "execution_count": null,
   "id": "7a7f0969",
   "metadata": {},
   "outputs": [],
   "source": []
  }
 ],
 "metadata": {
  "kernelspec": {
   "display_name": "Python 3 (ipykernel)",
   "language": "python",
   "name": "python3"
  },
  "language_info": {
   "codemirror_mode": {
    "name": "ipython",
    "version": 3
   },
   "file_extension": ".py",
   "mimetype": "text/x-python",
   "name": "python",
   "nbconvert_exporter": "python",
   "pygments_lexer": "ipython3",
   "version": "3.9.13"
  }
 },
 "nbformat": 4,
 "nbformat_minor": 5
}
